{
 "cells": [
  {
   "cell_type": "markdown",
   "metadata": {},
   "source": [
    "# <a href=\"https://mipt-stats.gitlab.io/courses/ad_fivt.html\">Введение в анализ данных</a>\n",
    "## Домашнее задание 10. Нейронные сети.\n"
   ]
  },
  {
   "cell_type": "markdown",
   "metadata": {},
   "source": [
    "**Правила, <font color=\"red\">прочитайте внимательно</font>:**\n",
    "\n",
    "* Выполненную работу нужно отправить телеграм-боту `@miptstats_ds22_bot`. Для начала работы с ботом каждый раз отправляйте `/start`. **Работы, присланные иным способом, не принимаются.**\n",
    "* Дедлайн см. в боте. После дедлайна работы не принимаются кроме случаев наличия уважительной причины.\n",
    "* Прислать нужно **ноутбук в формате `ipynb`**.\n",
    "* Следите за размером файлов. **Бот не может принимать файлы весом более 20 Мб.** Если файл получается больше, заранее разделите его на несколько.\n",
    "* Выполнять задание необходимо полностью самостоятельно. **При обнаружении списывания все участники списывания будут сдавать устный зачет.**\n",
    "* Решения, размещенные на каких-либо интернет-ресурсах, не принимаются. Кроме того, публикация решения в открытом доступе может быть приравнена к предоставлении возможности списать.\n",
    "* Для выполнения задания используйте этот ноутбук в качестве основы, ничего не удаляя из него. Можно добавлять необходимое количество ячеек.\n",
    "* Комментарии к решению пишите в markdown-ячейках.\n",
    "* Выполнение задания (ход решения, выводы и пр.) должно быть осуществлено на русском языке.\n",
    "* Если код будет не понятен проверяющему, оценка может быть снижена.\n",
    "* Никакой код из данного задания при проверке запускаться не будет. *Если код студента не выполнен, недописан и т.д., то он не оценивается.*\n",
    "\n",
    "**Правила оформления теоретических задач:**\n",
    "\n",
    "* Решения необходимо прислать одним из следующих способов:\n",
    "  * фотографией в правильной ориентации, где все четко видно, а почерк разборчив,\n",
    "    * отправив ее как файл боту вместе с ноутбуком *или*\n",
    "    * вставив ее в ноутбук посредством `Edit -> Insert Image`;\n",
    "  * в виде $LaTeX$ в markdown-ячейках.\n",
    "* Решения не проверяются, если какое-то требование не выполнено. Особенно внимательно все проверьте в случае выбора второго пункта (вставки фото в ноутбук). <font color=\"red\"><b>Неправильно вставленные фотографии могут не передаться при отправке.</b></font> Для проверки попробуйте переместить `ipynb` в другую папку и открыть его там.\n",
    "* В решениях поясняйте, чем вы пользуетесь, хотя бы кратко. Например, если пользуетесь независимостью, то достаточно подписи вида \"*X и Y незав.*\"\n",
    "* Решение, в котором есть только ответ, и отсутствуют вычисления, оценивается в 0 баллов.\n",
    "\n",
    "\n",
    "\n",
    "**Баллы за задание:**\n",
    "\n",
    "* Задача 1 &mdash; 50 баллов\n",
    "* Задача 2 &mdash; 40 баллов\n",
    "* Задача 3 &mdash; 10 баллов\n",
    "\n",
    "Баллы учитываются в <b><font color=\"green\">факультативной части</font></b> курса и не влияют на оценку по основной части."
   ]
  },
  {
   "cell_type": "code",
   "execution_count": 2,
   "metadata": {
    "colab": {},
    "colab_type": "code",
    "id": "ht9Xm0EucoAr"
   },
   "outputs": [
    {
     "name": "stdout",
     "output_type": "stream",
     "text": [
      "1.11.0+cu113\n"
     ]
    }
   ],
   "source": [
    "import numpy as np\n",
    "import scipy.stats as sps\n",
    "from sklearn.linear_model import LinearRegression\n",
    "import matplotlib.pyplot as plt\n",
    "import seaborn as sns\n",
    "from sklearn import metrics\n",
    "import torch\n",
    "from torch import nn\n",
    "\n",
    "sns.set(font_scale=1.2, palette='Set2')\n",
    "%matplotlib inline\n",
    "print(torch.__version__)"
   ]
  },
  {
   "cell_type": "markdown",
   "metadata": {},
   "source": [
    "Перед выполнением задания обязательно посмотрите <a href=\"https://mipt-stats.gitlab.io/courses/ad_fivt/lecture9.pdf\" target=\"_blank\">презентацию</a> с занятия по нейронным сетям."
   ]
  },
  {
   "cell_type": "markdown",
   "metadata": {},
   "source": [
    "---\n",
    "### Задача 1.\n",
    "\n",
    "Рассмотрим двухслойную нейронную сеть, которая принимает на вход $x\\in\\mathbb{R}$ и возвращает $y\\in\\mathbb{R}$. Выход первого слоя возвращает $u \\in\\mathbb{R}^2$. После первого слоя используется функция активации $\\sigma(x) = \\frac{1}{1 + \\exp(-x)}$, после второго слоя функция активации не используется (или используется тождественная). Тем самым нашу нейронную можно представить в виде\n",
    "\n",
    "$$\\widehat{y}(x) = w_{21}u_1(x) + w_{22}u_2(x) + b_2,$$\n",
    "\n",
    "$$u_1(x) = \\sigma\\big(w_{11}x + b_{11}\\big),$$\n",
    "\n",
    "$$u_2(x) = \\sigma\\big(w_{12}x + b_{12}\\big).$$\n",
    "\n"
   ]
  },
  {
   "cell_type": "markdown",
   "metadata": {},
   "source": [
    "**1.** Нарисуйте схематически данную нейронную сеть. Сколько у нее обучаемых параметров?"
   ]
  },
  {
   "cell_type": "markdown",
   "metadata": {},
   "source": [
    "![jupyter](./shem.jpg)"
   ]
  },
  {
   "cell_type": "markdown",
   "metadata": {},
   "source": [
    "Обучаем мы веса и сдвиги, по этому обучаемых параметров здесь 7. "
   ]
  },
  {
   "cell_type": "markdown",
   "metadata": {},
   "source": [
    "**2.** Дана обучающая выборка $(X_1, Y_1), ..., (X_n, Y_n)$, где $X_i \\in \\mathbb{R}$ и $Y_i \\in \\mathbb{R}$. Нейронная сеть обучается по этой выборке минимизируя MSE\n",
    "$$\\text{MSE} = \\sum_{i=1}^n \\big(Y_i - \\widehat{y}(X_i)\\big)^2.$$\n",
    "\n",
    "Наша задача &mdash; выписать производные по всем параметрам сети для использования градиентного спуска. Конечно, в данном случае довольно просто выписать все производные напрямую. Мы будем выписывать их поэтапно, так вам будет проще понять общую процедуру в дальнейшем."
   ]
  },
  {
   "cell_type": "markdown",
   "metadata": {},
   "source": [
    "В силу того что иной архетектуры не предложено считаю что мы исследуем сеть из предыдущего пункта\n"
   ]
  },
  {
   "cell_type": "markdown",
   "metadata": {},
   "source": [
    "**2.1.** Начнем с производной MSE по выходам сети\n",
    "$$\\frac{\\partial\\:\\text{MSE}}{\\partial \\widehat{y}(X_i)} = 2\\cdot \\hat{y}(X_i) - 2\\cdot Y_i $$\n",
    "\n",
    "Теперь мы можем взять производные выходов сети по весам последнего слоя\n",
    "\n",
    "$$\\frac{\\partial \\widehat{y}(X_i)}{\\partial w_{21}} = u_1(X_i)$$\n",
    "\n",
    "$$\\frac{\\partial \\widehat{y}(X_i)}{\\partial w_{22}} = u_2(X_i)$$\n",
    "\n",
    "$$\\frac{\\partial \\widehat{y}(X_i)}{\\partial b_2} = 1$$\n",
    "\n",
    "Наконец, выпишем производные MSE по весам последнего слоя. Для этого вспомните правило производной сложной функции из математического анализа.\n",
    "\n",
    "$$\\frac{\\partial\\:\\text{MSE}}{\\partial w_{21}} = \\sum_{i=1}^n \\frac{\\partial\\:\\text{MSE}}{\\partial\\:\\hat{y}(X_i)} \\frac{\\partial \\hat{y}(X_i)}{\\partial w_{21}} = \\sum_{j = 1} ^n(2\\cdot\\hat{y}(X_j) -2 Y_j)\\cdot u_1(X_j) $$\n",
    "\n",
    "$$\\frac{\\partial\\:\\text{MSE}}{\\partial w_{22}} = \\sum_{i=1}^n \\frac{\\partial \\:\\text{MSE}}{\\partial \\hat{y}(X_i)} \\frac{\\partial \\hat{y}(X_i)}{\\partial w_{22}} = \\sum_{j = 1}^n(2\\cdot \\hat{y}(X_j) -2\\cdot Y_j)\\cdot u_2(X_j) $$\n",
    "\n",
    "$$\\frac{\\partial\\:\\text{MSE}}{\\partial b_2} = \\sum_{i=1}^n \\frac{\\partial\\:\\text{MSE}}{\\partial \\hat{y}(X_i)} \\frac{\\partial \\hat{y}(X_i)}{\\partial b_2} = \\sum_{j = 1}^n(2\\cdot \\hat{y}(X_j) -2\\cdot Y_j) $$"
   ]
  },
  {
   "cell_type": "markdown",
   "metadata": {},
   "source": [
    "**2.2.** Теперь будем разбираться с производным по параметрам первого слоя. Начнем с производной выхода сети по выходу певрого слоя.\n",
    "\n",
    "$$\\frac{\\partial \\widehat{y}(X_i)}{\\partial u_1(X_i)} = w_{21}$$\n",
    "\n",
    "$$\\frac{\\partial \\widehat{y}(X_i)}{\\partial u_2(X_i)} = w_{22}$$\n",
    "\n",
    "Далее нам пригодится производная функции активации, запишите ее так, чтобы ответе осталась функция от $\\sigma(x)$\n",
    "\n",
    "$$\\frac{\\partial\\:\\sigma(x)}{\\partial x} = \\sigma(x)^2\\cdot e^{-x}$$\n",
    "\n",
    "Теперь мы можем взять производные выходов первого слоя по его параметрам\n",
    "\n",
    "$$\\frac{\\partial u_1(X_i)}{\\partial w_{11}} = \\sigma(w_{11}\\cdot X_i + b_{11})^2\\cdot e^{-(w_{11}\\cdot X_i + b_{11})}\\cdot X_i$$\n",
    "\n",
    "$$\\frac{\\partial u_1(X_i)}{\\partial b_{11}} = \\sigma(w_{11}\\cdot X_i + b_{11})^2\\cdot e^{-(w_{11}\\cdot X_i + b_{11})}$$\n",
    "\n",
    "$$\\frac{\\partial u_2(X_i)}{\\partial w_{12}} = \\sigma(w_{12}\\cdot X_i + b_{12})^2\\cdot e^{-(w_{12}\\cdot X_i + b_{12})}\\cdot X_i$$\n",
    "\n",
    "$$\\frac{\\partial u_2(X_i)}{\\partial b_{12}} = \\sigma(w_{12}\\cdot X_i + b_{12})^2\\cdot e^{-(w_{12}\\cdot X_i + b_{12})}$$\n",
    "\n",
    "Наконец, выпишем производные MSE по весам первого слоя. Аналогично, запишите правило производной сложной функции и выпишите итоговый ответ.\n",
    "\n",
    "$$\\frac{\\partial\\:\\text{MSE}}{\\partial w_{11}} = \\sum_{j = 1}^n((2\\cdot \\hat{y}({X_j}) -2\\cdot Y_j)\\cdot w_{21}\\cdot \\sigma(w_{11}\\cdot X_j + b_{11})^2\\cdot e^{-(w_{11}\\cdot X_j + b_{11})}\\cdot X_j)$$\n",
    "\n",
    "$$\\frac{\\partial\\:\\text{MSE}}{\\partial b_{11}} = \\sum_{j = 1}^ n(2\\cdot \\hat{y}(X_j) -2\\cdot Y_j)\\cdot w_{21}\\cdot \\sigma(w_{11}\\cdot X_j + b_{11})^2\\cdot e^{-(w_{11}\\cdot X_j + b_{11})}$$\n",
    "\n",
    "$$\\frac{\\partial\\:\\text{MSE}}{\\partial w_{12}} = \\sum_{j = 1}^n(2\\cdot \\hat{y}(X_j) -2\\cdot Y_j)\\cdot w_{22} \\cdot \\sigma(w_{12}\\cdot X_j + b_{12})^2\\cdot e^{-(w_{12}\\cdot X_j + b_{12})}\\cdot X_j$$\n",
    "\n",
    "$$\\frac{\\partial\\:\\text{MSE}}{\\partial b_{12}} = \\sum_{j = 1}^n(2\\cdot \\hat{y}(X_j) -2\\cdot Y_j)\\cdot w_{22}\\cdot \\sigma(w_{12}\\cdot X_j + b_{12})^2\\cdot e^{-(w_{12}\\cdot X_j + b_{12})}$$"
   ]
  },
  {
   "cell_type": "markdown",
   "metadata": {},
   "source": [
    "Вы могли заметить, мы считали производные начиная с последнего слоя и постепенно доходили до первого. Подобная процедура называется *методом обратного распространения ошибки* (backpropagation), ее преимуществом является эффективное вычисление градиентов."
   ]
  },
  {
   "cell_type": "markdown",
   "metadata": {},
   "source": [
    "**3.** Выпишите формулу градиентного спуска по одному из параметров.\n",
    "Раз сказали по одному выберем самый простой $b_2$\n",
    "\n",
    "$\\hat{b_2|}_{t+1} = \\hat{b_2|}_t - \\eta \\cdot \\sum_{j = 1}^n(2\\cdot \\hat{y}(X_j) -2\\cdot Y_j)$\n",
    "\n",
    "Пусть обучающая выборка очень большая. Что нужно делать в таком случае? Запишите, как нужно поменять правило обновления параметров.\n",
    "\n",
    "$\\hat{b_2|}_{t+1} = \\hat{b_2|}_t - \\eta \\cdot n \\cdot (2\\cdot \\hat{y}(X_1) -2\\cdot Y_1) $"
   ]
  },
  {
   "cell_type": "markdown",
   "metadata": {},
   "source": [
    "---\n",
    "### Задача 2.\n",
    "\n",
    "Реализуйте класс нейронной сети из задачи 1 в стиле scikit-learn, например, см. шаблон класса задачи 4 из <a href=\"https://mipt-stats.gitlab.io/courses/ad_fivt/task6.html#Задача-4.\" target=\"_blank\">задания 6</a>. Предусмотрите возможность обучения по случайным батчам. При реализации можно использовать только библиотеку `numpy`."
   ]
  },
  {
   "cell_type": "code",
   "execution_count": 12,
   "metadata": {},
   "outputs": [],
   "source": [
    "class MyNeyronet:\n",
    "    def __init__(self, lambd=0.1, count_of_step=100, batch_size = 100):\n",
    "        self.batch_size = batch_size\n",
    "        self.lambd = lambd\n",
    "        self.count_of_step = count_of_step\n",
    "        # order of param w11 w12 b11 b12 w21 w22 b2\n",
    "        np.random.seed(37372114)\n",
    "        self.theta = np.random.rand(7, 1)\n",
    "        #self.theta = np.zeros((7, 1))\n",
    "    def sigma(self, X):\n",
    "        return 1/(1 + 2.7**(X + 1))\n",
    "    @property\n",
    "    def w11(self):\n",
    "        return float(self.theta[0])\n",
    "    \n",
    "    @property\n",
    "    def w12(self):\n",
    "        return float(self.theta[1])\n",
    "    \n",
    "    @property\n",
    "    def b11(self):\n",
    "        return float(self.theta[2])\n",
    "\n",
    "    @property\n",
    "    def b12(self):\n",
    "        return float(self.theta[3])\n",
    "    \n",
    "    @property\n",
    "    def w21(self):\n",
    "        return float(self.theta[4])\n",
    "    \n",
    "    @property\n",
    "    def w22(self):\n",
    "        return float(self.theta[5])\n",
    "    \n",
    "    @property\n",
    "    def b2(self):\n",
    "        return float(self.theta[6])\n",
    "    \n",
    "    def u1(self, X):\n",
    "        return self.sigma(self.w11 * X + self.b11)\n",
    "    \n",
    "    def u2(self, X):\n",
    "        return self.sigma(self.w12 * X + self.b12)\n",
    "    \n",
    "    def predict(self, X):\n",
    "        return self.sigma(X * self.w11 + self.b11) * self.w21 + self.sigma(X * self.w12 + self.b12) * self.w22 + self.b2\n",
    "    \n",
    "    def make_step(self, X, Y):\n",
    "        Y_hat = self.predict(X)\n",
    "        helper0 = 2 * (Y_hat - Y)\n",
    "        Db2 = helper0.sum()\n",
    "        u2 = self.sigma(self.w12 * X + self.b12)\n",
    "        u1 = self.sigma(self.w11 * X + self.b11)\n",
    "        Dw21 = (helper0 * u1).sum()\n",
    "        Dw22 = (helper0 * u2).sum()\n",
    "        helper1 = u1 * u1 * self.w21 * 2.7**(-self.w11 * X - self.b11)\n",
    "        helper2 = u2 * u2 * self.w22 * 2.7**(-self.w12 * X - self.b12)\n",
    "        Dw11 = (X * helper1 * helper0).sum()\n",
    "        Db11 = (helper1 * helper0).sum()\n",
    "        Dw12 = (X * helper2 * helper0).sum()\n",
    "        Db12 = (helper1 * helper0).sum()        \n",
    "        D = np.array([[Dw11], [Dw12], [Db11], [Db12], [Dw21], [Dw22], [Db2]])\n",
    "        self.theta = self.theta - self.lambd * D\n",
    "        \n",
    "    def fit(self, X, Y):\n",
    "        for i in range(self.count_of_step):\n",
    "            indexe = np.random.randint(low=0, high=X.shape[0], size=(self.batch_size, 1))\n",
    "            self.make_step(np.array([X[i] for i in indexe]), np.array([Y[i] for i in indexe]))"
   ]
  },
  {
   "cell_type": "markdown",
   "metadata": {},
   "source": [
    "Сгенерируем данные. Возьмите какую-либо нелинейную функцию $y(x)$."
   ]
  },
  {
   "cell_type": "code",
   "execution_count": 13,
   "metadata": {},
   "outputs": [],
   "source": [
    "sample_size = int(10000)\n",
    "np.random.seed(seed=781641781)\n",
    "X = sps.norm.rvs(size=(sample_size, 1))\n",
    "y = X * X\n",
    "assert y.shape == (sample_size, 1)"
   ]
  },
  {
   "cell_type": "markdown",
   "metadata": {},
   "source": [
    "Обучите нейронную сеть на этих данных, а также простую линейную регрессию."
   ]
  },
  {
   "cell_type": "markdown",
   "metadata": {},
   "source": [
    "Обучим нашу сеть"
   ]
  },
  {
   "cell_type": "code",
   "execution_count": 14,
   "metadata": {},
   "outputs": [],
   "source": [
    "neyro_net = MyNeyronet(lambd=0.00001, count_of_step = 1000)\n",
    "neyro_net.fit(X, y)\n",
    "ans = neyro_net.predict(X)\n",
    "model = LinearRegression()\n",
    "model.fit(X, y)\n",
    "ans_lin = model.predict(X)"
   ]
  },
  {
   "cell_type": "markdown",
   "metadata": {},
   "source": [
    "Нарисуем получуенные данные"
   ]
  },
  {
   "cell_type": "code",
   "execution_count": 15,
   "metadata": {},
   "outputs": [
    {
     "data": {
      "image/png": "[encoded data removed]",
      "text/plain": [
       "<Figure size 1296x576 with 1 Axes>"
      ]
     },
     "metadata": {},
     "output_type": "display_data"
    }
   ],
   "source": [
    "sns.set(style=\"darkgrid\")\n",
    "fig, ax = plt.subplots(figsize=(18, 8))\n",
    "ax.scatter(X, ans, color=\"blue\", label=\"Предсказания нейронной сети\")\n",
    "ax.scatter(X, y, color=\"red\", label=\"Действительные значения\")\n",
    "ax.scatter(X, ans_lin, color=\"green\", label=\"Линейная регрессия\")\n",
    "ax.set_title('Визуализация моделей')\n",
    "ax.legend(loc=\"upper left\")\n",
    "ax.set_xlabel('X')\n",
    "ax.set_ylabel(\"Y\")\n",
    "plt.show()"
   ]
  },
  {
   "cell_type": "markdown",
   "metadata": {},
   "source": [
    "Сгенерируем тестовые данные и посчитаем на них MSE"
   ]
  },
  {
   "cell_type": "code",
   "execution_count": 300,
   "metadata": {},
   "outputs": [
    {
     "name": "stdout",
     "output_type": "stream",
     "text": [
      "Для линейной регрессии 1.4123677390929075\n",
      "Для \"Искуственного интелекта\" 1.4097713892163724\n"
     ]
    }
   ],
   "source": [
    "np.random.seed(seed=384596)\n",
    "test = sps.norm.rvs(size=(sample_size, 1))\n",
    "print(\"Для линейной регрессии\", metrics.mean_squared_error(test * test, model.predict(test)) ** 0.5)\n",
    "print(\"Для \\\"Искуственного интелекта\\\"\", metrics.mean_squared_error(test * test, neyro_net.predict(test)) ** 0.5)"
   ]
  },
  {
   "cell_type": "markdown",
   "metadata": {},
   "source": [
    "Вполне очевидно,  что наша нейронная сеть это просто МНК. MSE такой маленький так как большинство точек в окрестности нуля, а ноль мы не плохо приближаем."
   ]
  },
  {
   "cell_type": "markdown",
   "metadata": {},
   "source": [
    "В качестве второй функции выберем например $e^x$"
   ]
  },
  {
   "cell_type": "markdown",
   "metadata": {},
   "source": [
    "Повторите вычисления для другой нелинейной функции $y(x)$."
   ]
  },
  {
   "cell_type": "code",
   "execution_count": 308,
   "metadata": {},
   "outputs": [],
   "source": [
    "sample_size = int(10000)\n",
    "np.random.seed(seed=781641781)\n",
    "X = sps.norm.rvs(size=(sample_size, 1))\n",
    "y = 2.7 ** X\n",
    "assert y.shape == (sample_size, 1)"
   ]
  },
  {
   "cell_type": "markdown",
   "metadata": {},
   "source": [
    "Обучим модели"
   ]
  },
  {
   "cell_type": "code",
   "execution_count": 338,
   "metadata": {},
   "outputs": [],
   "source": [
    "neyro_net = MyNeyronet(lambd=0.00001, count_of_step = 100)\n",
    "neyro_net.fit(X, y)\n",
    "ans = neyro_net.predict(X)\n",
    "model = LinearRegression()\n",
    "model.fit(X, y)\n",
    "ans_lin = model.predict(X)"
   ]
  },
  {
   "cell_type": "markdown",
   "metadata": {},
   "source": [
    "Построим графики"
   ]
  },
  {
   "cell_type": "code",
   "execution_count": 339,
   "metadata": {},
   "outputs": [
    {
     "data": {
      "image/png": "[encoded data removed]",
      "text/plain": [
       "<Figure size 1296x576 with 1 Axes>"
      ]
     },
     "metadata": {},
     "output_type": "display_data"
    }
   ],
   "source": [
    "sns.set(style=\"darkgrid\")\n",
    "fig, ax = plt.subplots(figsize=(18, 8))\n",
    "ax.scatter(X, ans, color=\"blue\", label=\"Предсказания нейронной сети\")\n",
    "ax.scatter(X, y, color=\"red\", label=\"Действительные значения\")\n",
    "ax.scatter(X, ans_lin, color=\"green\", label=\"Линейная регрессия\")\n",
    "ax.set_title('Визуализация моделей')\n",
    "ax.legend(loc=\"upper left\")\n",
    "ax.set_xlabel('X')\n",
    "ax.set_ylabel(\"Y\")\n",
    "plt.show()"
   ]
  },
  {
   "cell_type": "markdown",
   "metadata": {},
   "source": [
    "Посчитаем MSE"
   ]
  },
  {
   "cell_type": "code",
   "execution_count": 340,
   "metadata": {},
   "outputs": [
    {
     "name": "stdout",
     "output_type": "stream",
     "text": [
      "Для линейной регрессии 1.2473123982055059\n",
      "Для \"Искуственного интелекта\" 1.9615614173460143\n"
     ]
    }
   ],
   "source": [
    "np.random.seed(seed=384596)\n",
    "test = sps.norm.rvs(size=(sample_size, 1))\n",
    "print(\"Для линейной регрессии\", metrics.mean_squared_error(2.7 ** test, model.predict(test)) ** 0.5)\n",
    "print(\"Для \\\"Искуственного интелекта\\\"\", metrics.mean_squared_error(2.7 ** test, neyro_net.predict(test)) ** 0.5)"
   ]
  },
  {
   "cell_type": "markdown",
   "metadata": {},
   "source": [
    "**Вывод:**\n",
    "Наша нейронная сеть из - за того что в ней мало слоев - просто линейная регрессия. Увы, я ждал большего"
   ]
  },
  {
   "cell_type": "markdown",
   "metadata": {},
   "source": [
    "---\n",
    "### Задача 3.\n",
    "\n",
    "Теперь напишите рассмотренную ранее нейронную сеть с помощью библиотеки `pytorch`, используя Sequential-стиль. Перед выполнением задачи рекомендуется посмотреть <a href=\"https://mipt-stats.gitlab.io/courses/ad_fivt/nn_simple_examples.html#3.-Готовые-модули-из-PyTorch\" target=\"_blank\">ноутбук</a> с занятия. Функция активации реализована как `torch.nn.Sigmoid`.\n",
    "\n",
    "*Внимание.* Для выполнения задачи потребуется установить библиотеку `pytorch`. Альтернативный вариант &mdash; выполнение в <a href=\"https://colab.research.google.com\" target=\"_blank\">Google Colab</a>. Учитывайте, что при длительном бездействии Colab может сам завершить работу ядра."
   ]
  },
  {
   "cell_type": "markdown",
   "metadata": {},
   "source": [
    "Запишем MSE и функцию активации"
   ]
  },
  {
   "cell_type": "code",
   "execution_count": 351,
   "metadata": {},
   "outputs": [],
   "source": [
    "def optim_func(y_pred, y_true):\n",
    "    return torch.mean((y_pred - y_true) ** 2)\n",
    "def act_func(x):\n",
    "    return 1/(1 + 2.7**(x + 1))"
   ]
  },
  {
   "cell_type": "markdown",
   "metadata": {},
   "source": [
    "Переведем данные в торч и заполним коэффициенты 0"
   ]
  },
  {
   "cell_type": "code",
   "execution_count": 359,
   "metadata": {},
   "outputs": [],
   "source": [
    "X_t = torch.Tensor(X)\n",
    "y_t = torch.Tensor(y)\n",
    "w11 = torch.zeros(1, requires_grad=True)\n",
    "b11 = torch.zeros(1, requires_grad=True)\n",
    "w12 = torch.zeros(1, requires_grad=True)\n",
    "b12 = torch.zeros(1, requires_grad=True)\n",
    "w21 = torch.zeros(1, requires_grad=True)\n",
    "b2 = torch.zeros(1, requires_grad=True)\n",
    "w22 = torch.zeros(1, requires_grad=True)\n",
    "# Количество итераций\n",
    "num_iter = 10000\n",
    "\n",
    "# Скорость обучения для параметров\n",
    "lr_w = 0.01\n",
    "lr_b = 0.05"
   ]
  },
  {
   "cell_type": "markdown",
   "metadata": {},
   "source": [
    "Непосредственно процесс обучения"
   ]
  },
  {
   "cell_type": "code",
   "execution_count": 360,
   "metadata": {},
   "outputs": [],
   "source": [
    "for i in range(num_iter):\n",
    "    # Forward pass: предсказание модели\n",
    "    y_pred =  act_func(X_t * w11 + b11) * w21 + act_func(X_t * w12 + b12) * w22 + b2\n",
    "\n",
    "    # Подсчет оптимизируемой функции (MSE)\n",
    "    loss = optim_func(y_pred, y_t)\n",
    "\n",
    "    # Bakcward pass: подсчет градиентов\n",
    "    loss.backward()\n",
    "\n",
    "    # Оптимизация: обновление параметров\n",
    "\n",
    "    w11.data -= lr_w * w11.grad.data\n",
    "    b11.data -= lr_b * b11.grad.data\n",
    "    w12.data -= lr_w * w12.grad.data\n",
    "    b12.data -= lr_b * b12.grad.data\n",
    "    w21.data -= lr_w * w21.grad.data\n",
    "    b2.data -= lr_b * b2.grad.data\n",
    "    w22.data -= lr_w * w22.grad.data\n",
    "    \n",
    "    w11.grad.zero_()\n",
    "    b11.grad.zero_()\n",
    "    w12.grad.zero_()\n",
    "    b12.grad.zero_()\n",
    "    w21.grad.zero_()\n",
    "    b2.grad.zero_()\n",
    "    w22.grad.zero_()\n"
   ]
  },
  {
   "cell_type": "markdown",
   "metadata": {},
   "source": [
    "Визуализируем ответ модели"
   ]
  },
  {
   "cell_type": "code",
   "execution_count": 361,
   "metadata": {},
   "outputs": [
    {
     "data": {
      "image/png": "[encoded data removed]",
      "text/plain": [
       "<Figure size 1296x576 with 1 Axes>"
      ]
     },
     "metadata": {},
     "output_type": "display_data"
    }
   ],
   "source": [
    "sns.set(style=\"darkgrid\")\n",
    "fig, ax = plt.subplots(figsize=(18, 8))\n",
    "ax.scatter(X_t.detach().numpy() , y_pred.detach().numpy() , color=\"blue\", label=\"Предсказания нейронной сети\", alpha = 0.2)\n",
    "ax.scatter(X, y, color=\"red\", label=\"Действительные значения\", alpha = 0.2)\n",
    "ax.set_title('Визуализация моделей')\n",
    "ax.legend(loc=\"upper left\")\n",
    "ax.set_xlabel('X')\n",
    "ax.set_ylabel(\"Y\")\n",
    "plt.show()"
   ]
  },
  {
   "cell_type": "markdown",
   "metadata": {},
   "source": [
    "Обучите нейросеть на рассмотренных ранее данных. Используйте код с занятия."
   ]
  },
  {
   "cell_type": "markdown",
   "metadata": {},
   "source": [
    "Посчитаем MSE для тестовой выборки"
   ]
  },
  {
   "cell_type": "code",
   "execution_count": 363,
   "metadata": {},
   "outputs": [
    {
     "name": "stdout",
     "output_type": "stream",
     "text": [
      "0.14387357234954834\n"
     ]
    }
   ],
   "source": [
    "test_t = torch.Tensor(test)\n",
    "ytest_t = torch.Tensor(2.7 ** test)\n",
    "print(float(optim_func(act_func(test_t * w11 + b11) * w21 + act_func(test_t * w12 + b12) * w22 + b2, ytest_t)))"
   ]
  },
  {
   "cell_type": "markdown",
   "metadata": {},
   "source": [
    "Не плохо, совсем не плохо."
   ]
  },
  {
   "cell_type": "markdown",
   "metadata": {},
   "source": [
    "Вывод : 1) Торч работает намного быстрее 2) Или в первом пункте у меня ошибка или в торче градиент как - то хитро считаеться , но в sclear стиле скорость обучения на одних и тех же данных приходилось ставить намного ниже чтобы небыло расхождения."
   ]
  }
 ],
 "metadata": {
  "colab": {
   "collapsed_sections": [],
   "name": "stats.ipynb",
   "provenance": [],
   "version": "0.3.2"
  },
  "kernelspec": {
   "display_name": "Python 3 (ipykernel)",
   "language": "python",
   "name": "python3"
  },
  "language_info": {
   "codemirror_mode": {
    "name": "ipython",
    "version": 3
   },
   "file_extension": ".py",
   "mimetype": "text/x-python",
   "name": "python",
   "nbconvert_exporter": "python",
   "pygments_lexer": "ipython3",
   "version": "3.10.2"
  }
 },
 "nbformat": 4,
 "nbformat_minor": 1
}
